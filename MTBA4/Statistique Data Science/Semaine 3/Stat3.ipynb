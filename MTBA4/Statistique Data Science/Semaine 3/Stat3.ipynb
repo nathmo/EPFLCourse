{
 "cells": [
  {
   "cell_type": "markdown",
   "metadata": {},
   "source": [
    "## Distributions in SciPy"
   ]
  },
  {
   "cell_type": "markdown",
   "metadata": {},
   "source": [
    "The `SciPy` library contains various toolboxes dedicated to common issues in scientific computing. Its different modules correspond to different applications, such as interpolation, integration, optimization, image processing, statistics, special functions, etc. The module `scipy.stats` is a powerful package for working with probability distributions. It implements 104 continuous and 19 discrete distributions! Almost everything that may be needed can be found here: random number generators (as in `numpy.random`), probability density functions (pdfs), cumulative distribution functions (cdfs), quantile functions, median/mean/variance/moments of various distributions, etc."
   ]
  },
  {
   "cell_type": "markdown",
   "metadata": {},
   "source": [
    "In what follows, we learn how to use the basic functionality. For a more detailed reference manual, we refer to the [SciPy documentation](http://docs.scipy.org/doc/scipy/reference/stats.html)."
   ]
  },
  {
   "cell_type": "code",
   "execution_count": null,
   "metadata": {
    "pycharm": {
     "is_executing": true
    }
   },
   "outputs": [],
   "source": [
    "import numpy as np\n",
    "from scipy import stats \n",
    "import matplotlib.pyplot as plt\n",
    "import seaborn as sns"
   ]
  },
  {
   "cell_type": "code",
   "execution_count": null,
   "metadata": {
    "pycharm": {
     "is_executing": true
    }
   },
   "outputs": [],
   "source": [
    "# graphics in the \"retina\" format are more sharp and legible\n",
    "sns.set()\n",
    "%config InlineBackend.figure_format = 'retina'\n",
    "\n",
    "# setting the plot size and color scheme\n",
    "plt.rcParams[\"figure.figsize\"] = (7, 4)\n",
    "plt.rcParams[\"image.cmap\"] = \"viridis\""
   ]
  },
  {
   "cell_type": "markdown",
   "metadata": {},
   "source": [
    "As it was mentioned above, `scipy.stats` implements many different distributions. We mention some of the most commonly used in the following table:\n",
    "\n",
    "<table class=\"shadedrows\">\n",
    "<thead>\n",
    "      <tr>\n",
    "         <th>Distribution</th>\n",
    "         <th></th>\n",
    "      </tr>\n",
    "</thead>\n",
    "<tbody>\n",
    "<tr>\n",
    "<td><code>bernoulli</code></td>\n",
    "<td>Bernoulli distribution</td>\n",
    "</tr>  \n",
    "<tr>\n",
    "<td><code>binom</code></td>\n",
    "<td>Binomial distribution</td>\n",
    "</tr> \n",
    "<tr>\n",
    "<td><code>multinomial</code></td>\n",
    "<td>Multinomial distribution</td>\n",
    "</tr>     \n",
    "<tr>\n",
    "<td><code>poisson</code></td>\n",
    "<td>Poisson distribution</td>\n",
    "</tr>\n",
    "<tr>\n",
    "<td><code>uniform</code></td>\n",
    "<td>Uniform (continuous) distribution</td>\n",
    "</tr>\n",
    "<tr>\n",
    "<td><code>expon</code></td>\n",
    "<td>Exponential distribution</td>\n",
    "</tr>\n",
    "<tr>\n",
    "<td><code>norm</code></td>\n",
    "<td>Normal (Gaussian) distribution</td>\n",
    "</tr>\n",
    "<tr>\n",
    "<td><code>chi2</code></td>\n",
    "<td>Chi-squared distribution</td>\n",
    "</tr>\n",
    "<tr>\n",
    "<td><code>t</code></td>\n",
    "<td>Student's t-distribution</td>\n",
    "</tr>\n",
    "<tr>\n",
    "<td><code>gamma</code></td>\n",
    "<td>Gamma distribution</td>\n",
    "</tr>\n",
    "</tbody>\n",
    "</table>\n",
    "\n",
    "For more distributions, we again refer to the [SciPy documentation](http://docs.scipy.org/doc/scipy/reference/stats.html)."
   ]
  },
  {
   "cell_type": "markdown",
   "metadata": {},
   "source": [
    "### How to define a distribution object?"
   ]
  },
  {
   "cell_type": "markdown",
   "metadata": {},
   "source": [
    "Each distribution in `scipy.stats` is represented as an object. To define a distribution object, we need only to specify the parameters of distribution. In SciPy, many distributions have predefined standard values (for example, for the normal distribution, the mean is 0 and the variance is 1). If we want to use standard values, we can omit them."
   ]
  },
  {
   "cell_type": "code",
   "execution_count": null,
   "metadata": {},
   "outputs": [],
   "source": [
    "dist1 = stats.norm() # standart normal distribution N(0,1)\n",
    "dist2 = stats.norm(0,2) # normal distribution N(0,2^2)\n",
    "dist3 = stats.uniform() # standart uniform distribution on [0,1]\n",
    "dist4 = stats.uniform(2,3) # uniform distribution on [2,5] "
   ]
  },
  {
   "cell_type": "markdown",
   "metadata": {},
   "source": [
    "Please, check in the reference manual what distribution parameters you need to specify. For example, for the uniform distribution, we need to specify the start point and length of an interval (not the start and end points as in NumPy); for the exponential distribution, we need to specify the scale parameter which is inverse to the common rate parameter (scale=1/$\\lambda$). The reason for this is the following. For many distribution families, one can obtain any other version of the distribution only by applying a linear transformation. For instance,\n",
    "\n",
    "* If $X\\sim\\mathcal{N}(0,1)$, then $Y = \\mu + \\sigma X \\sim \\mathcal{N}(\\mu,\\sigma^2)$;\n",
    "* If $X\\sim\\mathcal{U}([0,1])$, then $Y = a + (b-a)X \\sim\\mathcal{U}([a,b])$;\n",
    "* If $X\\sim\\mathcal{E}(1)$, then $Y = \\lambda^{-1}X \\sim\\mathcal{E}(\\lambda)$ (here one can also add a shift to change the location).\n",
    "\n",
    "To have a more unified framework, SciPy distributions are parameterized by their **location** and **scale** parameters if it is applicable. Namely,\n",
    "\n",
    "* $X\\sim\\operatorname{Distribution}(loc=0,\\,scale=1)$, then $Y = a + b X \\sim\\operatorname{Distribution}(loc=a,\\,scale=b)$.\n",
    "\n",
    "This explains the parametrization choice for the uniform and exponential distributions. Please keep in mind that the location and scale are not exchangeable to the mean and standard deviation except in a handful of distributions. "
   ]
  },
  {
   "cell_type": "markdown",
   "metadata": {},
   "source": [
    "### What methods can one use?"
   ]
  },
  {
   "cell_type": "markdown",
   "metadata": {},
   "source": [
    "After the object of distribution is defined, we can use many different methods. Some of them are summarized in the following table.\n",
    "    \n",
    "<table style=\"text-align:left;\">\n",
    "<thead>\n",
    "      <tr>\n",
    "         <th>Method</th>\n",
    "         <th></th>\n",
    "      </tr>\n",
    "</thead>\n",
    "<tbody>\n",
    "<tr>\n",
    "<td><code>rvs</code></td>\n",
    "<td>Random variates</td>\n",
    "</tr>\n",
    "<tr>\n",
    "<td><code>pdf</code></td>\n",
    "<td>Probability density function</td>\n",
    "</tr>\n",
    "<tr>\n",
    "<td><code>cdf</code></td>\n",
    "<td>Cumulative distribution function</td>\n",
    "</tr>\n",
    "<tr>\n",
    "<td><code>ppf</code></td>\n",
    "<td>Quantile function (inverse of the cdf)</td>\n",
    "</tr>    \n",
    "<tr>\n",
    "<td><code>moment</code></td>\n",
    "<td>Non-central moment of the specified order</td>\n",
    "</tr>    \n",
    "<tr>\n",
    "<td><code>expect</code></td>\n",
    "<td>Expected value of a function with respect to the distribution</td>\n",
    "</tr>   \n",
    "<tr>\n",
    "<td><code>median</code></td>\n",
    "<td>Median of the distribution</td>\n",
    "</tr>  \n",
    "<tr>\n",
    "<td><code>mean</code></td>\n",
    "<td>Mean of the distribution</td>\n",
    "</tr>    \n",
    "<tr>\n",
    "<td><code>var</code></td>\n",
    "<td>Variance of the distribution</td>\n",
    "</tr> \n",
    "</tbody>\n",
    "</table>\n",
    "\n",
    "It is not the full list of methods in `scipy.stats`; for more methods please visit the [SciPy documentation](http://docs.scipy.org/doc/scipy/reference/stats.html)."
   ]
  },
  {
   "cell_type": "markdown",
   "metadata": {},
   "source": [
    "### Usage examples"
   ]
  },
  {
   "cell_type": "code",
   "execution_count": null,
   "metadata": {},
   "outputs": [],
   "source": [
    "# random sample from dist1 of size 5x2 with fixed random_state \n",
    "# random_state is to make the results reproducible\n",
    "\n",
    "dist1.rvs(size=[5,2], random_state=1)"
   ]
  },
  {
   "cell_type": "code",
   "execution_count": null,
   "metadata": {},
   "outputs": [],
   "source": [
    "# mean value of dist1\n",
    "\n",
    "dist1.mean()"
   ]
  },
  {
   "cell_type": "code",
   "execution_count": null,
   "metadata": {},
   "outputs": [],
   "source": [
    "# median value of dist1\n",
    "\n",
    "dist1.median()"
   ]
  },
  {
   "cell_type": "code",
   "execution_count": null,
   "metadata": {},
   "outputs": [],
   "source": [
    "# variance of dist1\n",
    "\n",
    "dist1.var()"
   ]
  },
  {
   "cell_type": "code",
   "execution_count": null,
   "metadata": {},
   "outputs": [],
   "source": [
    "# non-central moments of orders from 1 to 4 for dist1\n",
    "\n",
    "dist1.moment(1), dist1.moment(2), dist1.moment(3), dist1.moment(4)"
   ]
  },
  {
   "cell_type": "code",
   "execution_count": null,
   "metadata": {},
   "outputs": [],
   "source": [
    "# expected value of a function with respect to dist1\n",
    "# E[f(X)], where f(x) = x^2 + 5(x-2)\n",
    "\n",
    "dist1.expect(lambda x: x**2 + 5*(x-2))"
   ]
  },
  {
   "cell_type": "code",
   "execution_count": null,
   "metadata": {},
   "outputs": [],
   "source": [
    "# pdf value at x=1 for dist1\n",
    "\n",
    "dist1.pdf(1)"
   ]
  },
  {
   "cell_type": "code",
   "execution_count": null,
   "metadata": {},
   "outputs": [],
   "source": [
    "# cdf value at x=1 for dist1\n",
    "\n",
    "dist1.cdf(1)"
   ]
  },
  {
   "cell_type": "code",
   "execution_count": null,
   "metadata": {},
   "outputs": [],
   "source": [
    "# pdf and cdf plots for dist1 (based on 1000 points from -3 to 3)\n",
    "\n",
    "fig , axes = plt.subplots(1,2, figsize=(12,4))\n",
    "\n",
    "x = np.linspace(-3,3,1000)\n",
    "sns.lineplot(x=x, y=dist1.pdf(x), ax=axes[0]);\n",
    "sns.lineplot(x=x, y=dist1.cdf(x), ax=axes[1]);\n",
    "\n",
    "fig.tight_layout()"
   ]
  },
  {
   "cell_type": "markdown",
   "metadata": {},
   "source": [
    "Let us recall that the **quantile function**, associated with a probability distribution of a random variable, specifies the value of the random variable such that the probability of the variable being less than or equal to that value equals the given probability. Specifically, if $X$ is a random variable with an invertible cdf $F$, the quantile function at level $\\alpha$ is the unique value $q_{\\alpha}$ such that $\\mathbb{P}(X \\leq q_{\\alpha}) = \\alpha$ or equivalently $q_{\\alpha}=F^{-1}(\\alpha)$. In probability and statistics, the quantile function is also called the percentile function, percent-point function or inverse cumulative distribution function. In SciPy, quantiles can be calculated using the method `ppf()`; here \"ppf\" stands for percent-point function."
   ]
  },
  {
   "cell_type": "code",
   "execution_count": null,
   "metadata": {},
   "outputs": [],
   "source": [
    "# ppf value at alpha=0.8413447460685429 for dist1\n",
    "# (what value do we expect to obtain?)\n",
    "\n",
    "dist1.ppf(0.8413447460685429)"
   ]
  },
  {
   "cell_type": "markdown",
   "metadata": {},
   "source": [
    "**[Q1]** Similarly to how it is done above, plot the cdf and quantile function for $X\\sim\\mathcal{N}(0,1)$ next to each other. What do you see in these plots? Where and how can we find on these graphs the value of $x\\in\\mathbb{R}$ such that $\\mathbb{P}(X \\leq x)=0.1$? And $x\\in\\mathbb{R}$ such that $\\mathbb{P}(X \\ge x)=0.1$? In general, for a given invertible function, how does the graph of its inverse look like?"
   ]
  },
  {
   "cell_type": "code",
   "execution_count": null,
   "metadata": {},
   "outputs": [],
   "source": [
    "# your code here"
   ]
  },
  {
   "cell_type": "markdown",
   "metadata": {},
   "source": [
    "<details>\n",
    "<summary><strong>Answer</strong></summary>\n",
    "<p>\n",
    "The following code plots the cdf and quantile function of $X$:\n",
    "\n",
    "```python\n",
    "fig, axes = plt.subplots(1,2, figsize=(12,4))\n",
    "\n",
    "x = np.linspace(-3,3,1000)\n",
    "sns.lineplot(x=x, y=dist1.cdf(x), ax=axes[0]);\n",
    "sns.lineplot(x=x, y=dist1.ppf(x), ax=axes[1]);\n",
    "\n",
    "fig.tight_layout()\n",
    "    \n",
    "```\n",
    "    \n",
    "In general, the graph of an inverse function can be found from mirroring the original graph around the line $y = x$. The domain of the quantile function is the range of the cdf. The range of the quantile inverse is the domain of cdf. \n",
    "      \n",
    "The value of $x\\in\\mathbb{R}$ such that $\\mathbb{P}(X \\leq x)=0.1$ can be found as the $x$ coordinate of the red point in the left graph and the $y$ coordinate of the red point in right graph built by the following code:\n",
    "\n",
    "```python\n",
    "fig, axes = plt.subplots(1,2, figsize=(12,4))\n",
    "\n",
    "x = np.linspace(-3,3,1000)\n",
    "sns.lineplot(x=x, y=dist1.cdf(x), ax=axes[0]);\n",
    "sns.lineplot(x=x, y=dist1.ppf(x), ax=axes[1]);\n",
    "\n",
    "alpha = 0.1\n",
    "quant = dist1.ppf(alpha)\n",
    "axes[0].scatter(x=quant, y=alpha, color='r')\n",
    "axes[1].scatter(x=alpha, y=quant, color='r')\n",
    "\n",
    "fig.tight_layout()\n",
    "```  \n",
    "     \n",
    "Similarly, the value of $x\\in\\mathbb{R}$ such that $\\mathbb{P}(X \\geq x)=0.1$ can be found as the $x$ coordinate of the red point in the left graph and the $y$ coordinate of the red point in right graph built by the following code:\n",
    "    \n",
    "```python    \n",
    "fig, axes = plt.subplots(1,2, figsize=(12,4))\n",
    "\n",
    "x = np.linspace(-3,3,1000)\n",
    "sns.lineplot(x=x, y=dist1.cdf(x), ax=axes[0]);\n",
    "sns.lineplot(x=x, y=dist1.ppf(x), ax=axes[1]);\n",
    "\n",
    "alpha = 0.1\n",
    "quant = dist1.ppf(1-alpha)\n",
    "axes[0].scatter(x=quant, y=1-alpha, color='r')\n",
    "axes[1].scatter(x=1-alpha, y=quant, color='r')\n",
    "\n",
    "fig.tight_layout()    \n",
    "```    \n",
    "</details>"
   ]
  },
  {
   "cell_type": "markdown",
   "metadata": {},
   "source": [
    "**[Q2]** To explore how quantile functions may look like, plot the cdf and quantile function for the exponential $\\mathcal{E}(2)$ and chi-square $\\chi^2_4$ distributions. What do all these quantile graphs have in common?"
   ]
  },
  {
   "cell_type": "code",
   "execution_count": null,
   "metadata": {},
   "outputs": [],
   "source": [
    "# your code here"
   ]
  },
  {
   "cell_type": "markdown",
   "metadata": {},
   "source": [
    "<details>\n",
    "<summary><strong>Answer</strong></summary>\n",
    "<p>\n",
    "The code that generates the plots is given below:\n",
    "\n",
    "```python\n",
    "# exponential distribution\n",
    "fig, axes = plt.subplots(1,2, figsize=(12,4))\n",
    "\n",
    "x = np.linspace(-0.5,5,1000)\n",
    "dist = stats.expon(scale = 1/2)    \n",
    "sns.lineplot(x=x, y=dist.cdf(x), ax=axes[0]);\n",
    "sns.lineplot(x=x, y=dist.ppf(x), ax=axes[1]);\n",
    "\n",
    "fig.tight_layout()\n",
    "    \n",
    "```\n",
    "\n",
    "```python\n",
    "# chi-square distribution\n",
    "fig, axes = plt.subplots(1,2, figsize=(12,4))\n",
    "\n",
    "x = np.linspace(-0.5,5,1000)\n",
    "dist = stats.chi2(df=4)\n",
    "sns.lineplot(x=x, y=dist.cdf(x), ax=axes[0]);\n",
    "sns.lineplot(x=x, y=dist.ppf(x), ax=axes[1]);\n",
    "\n",
    "fig.tight_layout()\n",
    "    \n",
    "``` \n",
    "    \n",
    "In all these plots, the quantile functions are strictly monotonic (since the cdfs are strictly monotonic) and take values in a range that coincides with the distribution support.\n",
    "</p>\n",
    "</details>"
   ]
  },
  {
   "cell_type": "markdown",
   "metadata": {},
   "source": [
    "In the following simple but important exercises, we will explore how to use the cdf to calculate probabilities of various events and how to use the quantile function to solve inverse problems."
   ]
  },
  {
   "cell_type": "markdown",
   "metadata": {},
   "source": [
    "**[Q3]** Let $X\\sim\\mathcal{N}(0,1)$. Do the following:\n",
    "\n",
    "1. Prove (theoretically) that $\\mathbb{P}(X \\geq x) = F(-x)$ for any $x \\in \\mathbb{R}$; here $F$ denotes the cdf of $X$. Hint: it may be useful to note that the pdf of $X$ possesses some symmetry properties.\n",
    "2. Another way to compute $\\mathbb{P}(X \\geq x)$ for some $x \\in \\mathbb{R}$ is to use the identity $\\mathbb{P}(X \\geq x) = 1 - F(x)$. Note that this identity is generic and holds for any distributions! Prove it (theoretically).\n",
    "3. Check numerically, using SciPy, that the identities from 1 and 2 lead to the same results.\n",
    "  "
   ]
  },
  {
   "cell_type": "code",
   "execution_count": null,
   "metadata": {},
   "outputs": [],
   "source": [
    "# your code here"
   ]
  },
  {
   "cell_type": "markdown",
   "metadata": {},
   "source": [
    "<details>\n",
    "<summary><strong>Answer</strong></summary>\n",
    "<p>\n",
    "To prove the first identity, we need to note that $\\mathbb{P}(X \\geq x)$ is the area under the pdf of $X$ from $x$ to $+\\infty$. Since the standard normal distribution is symmetric (its pdf is an even function), this area coincides with the area from $-\\infty$ to $-x$, which equals $F(-x)$. The second identity can be proved straightforward: $\\mathbb{P}(X \\geq x) = 1-\\mathbb{P}(X \\leq x) = 1 - F(x)$, where we used the fact that the total area under the pdf is $1$. The combination of these two identities gives us: $F(x) + F(-x) = 1$, and this can be checked by the following code: \n",
    "        \n",
    "```python\n",
    "x = 1\n",
    "stats.norm.cdf(x)+stats.norm.cdf(-x)    \n",
    "```    \n",
    "</p>\n",
    "</details>"
   ]
  },
  {
   "cell_type": "markdown",
   "metadata": {},
   "source": [
    "**[Q4]** Let again $X\\sim\\mathcal{N}(0,1)$. Do the following:\n",
    "1. Using only the cdf, calculate the probabilities $\\mathbb{P}\\bigl(X\\in[-a,a]\\bigr)$\n",
    "    for $a=1,2,3$.\n",
    "2. Fix any $\\sigma>0$ and calculate the probabilities $\\mathbb{P}\\bigl(Y\\in[-a\\sigma,a\\sigma]\\bigr)$ for $Y\\sim\\mathcal{N}(0,\\sigma^2)$ and $a=1,2,3$.\n",
    "3. Why do we get the same values? "
   ]
  },
  {
   "cell_type": "code",
   "execution_count": null,
   "metadata": {},
   "outputs": [],
   "source": [
    "# your code here "
   ]
  },
  {
   "cell_type": "markdown",
   "metadata": {},
   "source": [
    "<details>\n",
    "<summary><strong>Answer</strong></summary>\n",
    "<p>\n",
    "We first need to note that $\\mathbb{P}(-a\\leq X \\leq a) = F(a) - F(-a)$, which leads to the following code:\n",
    "        \n",
    "```python\n",
    "a = 1\n",
    "stats.norm.cdf(a)-stats.norm.cdf(-a)    \n",
    "```\n",
    "\n",
    "To calculate the similar probabilities for $Y$, we can use the following code:\n",
    "```python\n",
    "a = 1\n",
    "sigma = 2\n",
    "stats.norm(0,sigma).cdf(a*sigma)-stats.norm(0,sigma).cdf(-a*sigma)     \n",
    "```   \n",
    "    \n",
    "The reason why we get the same probabilities for $Y$ is that $Y/\\sigma$ follows the standard normal distribution as does $X$. What we observe here is an instance of the 68–95–99.7 rule; you can find more information about on the [Wikipedia page](https://en.wikipedia.org/wiki/68–95–99.7_rule)).\n",
    "</p>\n",
    "</details>"
   ]
  },
  {
   "cell_type": "markdown",
   "metadata": {},
   "source": [
    "**[Q5]** Let again $X\\sim\\mathcal{N}(0,1)$. Do the following:\n",
    "1. Using the quantile function, find the value of $a$ such that $\\mathbb{P}\\bigl(X\\in[-a,a]\\bigr)=1-\\alpha$ for $\\alpha=0.01,0.05,0.1$. Hint: in this case, what should be the values of $\\mathbb{P}(X \\leq -a)$ and $\\mathbb{P}(X \\ge a)$?\n",
    "2. Check that the found intervals are correct. To do this, sample $10\\,000$ observations from $\\mathcal{N}(0,1)$  and calculate the proportion of the observations falling into the interval. Plot a histogram using the following template:\n",
    "```python\n",
    "# histogram with fixed bins\n",
    "sns.histplot(sample, bins=np.linspace(-3,3,15), stat='probability');\n",
    "# two lines x=-a and x=a determining the interval [-a,a]\n",
    "plt.axvline(x=-a, color = 'r');\n",
    "plt.axvline(x=a, color = 'r');\n",
    "```\n",
    "In this code you need to change the bins argument so that the proportion of the observations falling into $[-a,a]$ could be visually evaluated."
   ]
  },
  {
   "cell_type": "code",
   "execution_count": null,
   "metadata": {},
   "outputs": [],
   "source": [
    "# your code here"
   ]
  },
  {
   "cell_type": "markdown",
   "metadata": {},
   "source": [
    "<details>\n",
    "<summary><strong>Answer</strong></summary>\n",
    "<p>\n",
    "Since the interval is symmetric, we should have $\\mathbb{P}(X \\leq -a)=\\alpha/2$ and $\\mathbb{P}(X \\geq a)=\\alpha/2$. Now it is easy to find $a$ using the quantile function: \n",
    "\n",
    "```python\n",
    "alpha = 0.1\n",
    "a = -stats.norm.ppf(alpha/2) # or a = stats.norm.ppf(1-alpha/2)\n",
    "``` \n",
    "    \n",
    "To calculate the proportion of the observations falling into the interval, we can do the following:\n",
    "```python   \n",
    "sample = stats.norm.rvs(size=1000000)\n",
    "((sample >= -a) & (sample <= a)).mean()\n",
    "``` \n",
    "                                      \n",
    "The following code builds one of the possible good histograms:                                   \n",
    "```python\n",
    "sns.histplot(sample, bins=[-3,-a,a,3], stat='probability');\n",
    "plt.axvline(x=-a, color = 'r');\n",
    "plt.axvline(x=a, color = 'r');                                      \n",
    "```                                        \n",
    "</p>\n",
    "</details>"
   ]
  },
  {
   "cell_type": "markdown",
   "metadata": {},
   "source": [
    "---"
   ]
  },
  {
   "cell_type": "markdown",
   "metadata": {},
   "source": [
    "### OPTIONAL: Custom distributions in SciPy"
   ]
  },
  {
   "cell_type": "markdown",
   "metadata": {},
   "source": [
    "It may surprise you, but in SciPy you can define your own distribution and plug it into the existing framework. This means that you can easily calculate its expectation, variance, cdf values... and even generate a sample from it! In what follows, we will briefly show you how to do this."
   ]
  },
  {
   "cell_type": "markdown",
   "metadata": {},
   "source": [
    "Consider the following distribution:\n",
    "$$\n",
    "    f(x) = \n",
    "    \\begin{cases}\n",
    "        |sin(x)|/4, & x \\in [0, 2\\pi],\\\\\n",
    "        0, & \\text{otherwise}.\n",
    "    \\end{cases}\n",
    "$$"
   ]
  },
  {
   "cell_type": "markdown",
   "metadata": {},
   "source": [
    "Let us define this function and plot it."
   ]
  },
  {
   "cell_type": "code",
   "execution_count": null,
   "metadata": {},
   "outputs": [],
   "source": [
    "def f(x):\n",
    "    if ((x>=0) & (x<2*np.pi)):\n",
    "        return abs(np.sin(x)/4)\n",
    "    else:\n",
    "        return 0.0"
   ]
  },
  {
   "cell_type": "code",
   "execution_count": null,
   "metadata": {},
   "outputs": [],
   "source": [
    "# and plot it\n",
    "fig = plt.figure();\n",
    "plt.xlabel('x')\n",
    "plt.ylabel('f(x)')\n",
    "\n",
    "x = np.linspace(-1, 8, 1000)\n",
    "sns.lineplot(x=x, y=list(map(f, x)));"
   ]
  },
  {
   "cell_type": "markdown",
   "metadata": {},
   "source": [
    "Now let us define the new distribution class."
   ]
  },
  {
   "cell_type": "code",
   "execution_count": null,
   "metadata": {},
   "outputs": [],
   "source": [
    "class CustomDist(stats.rv_continuous):\n",
    "    def __init__(self):\n",
    "        # momtype = 0 means that the distribution is defined by the pdf \n",
    "        # a and b are optional arguments that define the distribution support\n",
    "        super().__init__(momtype=0, a=0, b=2*np.pi)\n",
    "    def _pdf(self, x):\n",
    "        return f(x)"
   ]
  },
  {
   "cell_type": "code",
   "execution_count": null,
   "metadata": {},
   "outputs": [],
   "source": [
    "custom_dist = CustomDist()"
   ]
  },
  {
   "cell_type": "markdown",
   "metadata": {},
   "source": [
    "Now we can treat `custom_dist` as any other SciPy distribution."
   ]
  },
  {
   "cell_type": "markdown",
   "metadata": {},
   "source": [
    "**[Q7]** Calculate the mean and variance of `custom_dist` and sample $1000$ observations from it. Play with other methods from `scipy.stats`."
   ]
  },
  {
   "cell_type": "code",
   "execution_count": null,
   "metadata": {},
   "outputs": [],
   "source": [
    "# your code here"
   ]
  },
  {
   "cell_type": "markdown",
   "metadata": {},
   "source": [
    "<details>\n",
    "<summary><strong>Answer</strong></summary>\n",
    "<p>\n",
    "Use the following code to calculate the mean and variance of `custom_dist` and generate a sample from it:\n",
    "\n",
    "```python\n",
    "custom_dist.mean()\n",
    "custom_dist.var()\n",
    "custom_dist.rvs(size=1000)\n",
    "```\n",
    "</p>\n",
    "</details>"
   ]
  },
  {
   "cell_type": "markdown",
   "metadata": {},
   "source": [
    "---"
   ]
  },
  {
   "cell_type": "markdown",
   "metadata": {},
   "source": [
    "### OPTIONAL: Interactive plots in Jupyter"
   ]
  },
  {
   "cell_type": "markdown",
   "metadata": {},
   "source": [
    "Of course, in Jupyter, a user can relatively easily change the plot by changing the code. But allowing the user to interact with the data without modifying the code may have some obvious advantages. In this section, we will use IPywidgets to go beyond the basic static plots in Jupyter. "
   ]
  },
  {
   "cell_type": "markdown",
   "metadata": {},
   "source": [
    "<details>\n",
    "<summary><strong>Installation guide (skip this if you use noto)</strong></summary>\n",
    "<p>\n",
    "First, we need to install <strong>ipywidgets</strong> (for interactive browser controls) and, possibly, <strong>ipympl</strong> (for interactive features of matplotlib) in our environment. \n",
    "    \n",
    "To install ipywidgets and ipympl with pip:    \n",
    "```python    \n",
    "pip install ipywidgets\n",
    "pip install ipympl \n",
    "```\n",
    "    \n",
    "To install ipywidgets and ipympl with conda:    \n",
    "```python  \n",
    "conda install -c conda-forge ipywidgets\n",
    "conda install -c conda-forge ipympl    \n",
    "```\n",
    "\n",
    "After this, run the following line to enable the matplotlib interactive features:\n",
    "```python  \n",
    "%matplotlib notebook\n",
    "```\n",
    "    \n",
    "To disable the matplotlib interactive features, you can run: \n",
    "```python  \n",
    "%matplotlib inline\n",
    "```\n",
    "</p>\n",
    "</details>"
   ]
  },
  {
   "cell_type": "code",
   "execution_count": null,
   "metadata": {},
   "outputs": [],
   "source": [
    "from ipywidgets import *"
   ]
  },
  {
   "cell_type": "markdown",
   "metadata": {},
   "source": [
    "Let us show how interactive visualization tools in Jupyter work. In the following example, we plot the pdf of $X\\sim\\mathcal{U}([a,b])$ and allow the user to change the endpoints $a$ and $b$ of the interval using slider controls."
   ]
  },
  {
   "cell_type": "code",
   "execution_count": null,
   "metadata": {},
   "outputs": [],
   "source": [
    "def interactive_update(a,b):\n",
    "    \"\"\" \n",
    "    Based on the new values of a and b, this function updates the plot.\n",
    "    The approach here is to clear and redraw the whole plot rather than simply to update it.   \n",
    "    \n",
    "    \"\"\"\n",
    "    \n",
    "    # first we need to clear the plot before we update it\n",
    "    fig.clf()\n",
    "    \n",
    "    # also, we need to fix x and y limits so they do not change \n",
    "    plt.xlim(-10, 10) \n",
    "    plt.ylim(-0.1, 1.1)\n",
    "    \n",
    "    # we also label x and y axes\n",
    "    plt.xlabel('x')\n",
    "    plt.ylabel('f(x)')\n",
    "    \n",
    "    # finally, we plot the p.d.f. of X based on 1000 points \n",
    "    x = np.linspace(-10,10,1000)\n",
    "    sns.lineplot(x=x, y=stats.uniform(loc=a, scale=b-a).pdf(x))"
   ]
  },
  {
   "cell_type": "code",
   "execution_count": null,
   "metadata": {},
   "outputs": [],
   "source": [
    "fig = plt.figure();\n",
    "\n",
    "# here we display the plot with interactive slider controls for a and b\n",
    "_ = interact(interactive_update,   \n",
    "             a=widgets.FloatSlider(min=-10, max=0, step=0.1, value=-5.0, \n",
    "                               description = 'a:', layout=Layout(width='50%')),\n",
    "             b=widgets.FloatSlider(min=0, max=10, step=0.1, value=5.0, \n",
    "                               description = 'b:', layout=Layout(width='50%'))\n",
    "            )"
   ]
  },
  {
   "cell_type": "markdown",
   "metadata": {},
   "source": [
    "Before we proceed, we recommend you to **close the interactive plot** to avoid conflicts with other plots. To do this, you can press the off button in the upper right corner of the plot (if you have one) or run the following command:"
   ]
  },
  {
   "cell_type": "code",
   "execution_count": null,
   "metadata": {},
   "outputs": [],
   "source": [
    "# closes all active plots\n",
    "plt.close('all')"
   ]
  },
  {
   "cell_type": "markdown",
   "metadata": {},
   "source": [
    "**[Q6]** In the same interactive plot, show the pdfs of standard Gaussian distribution and Student's $t$-distribution with varying degrees of freedom. When do these distributions become visually indistinguishable on the interval $[-10,10]$? (Remark: to make the integer simply replace 'FloatSlider' with 'IntSlider'.)"
   ]
  },
  {
   "cell_type": "code",
   "execution_count": null,
   "metadata": {},
   "outputs": [],
   "source": [
    "# your code here"
   ]
  },
  {
   "cell_type": "markdown",
   "metadata": {},
   "source": [
    "<details>\n",
    "<summary><strong>Answer</strong></summary>\n",
    "<p>\n",
    "The following code builds the plot.\n",
    "\n",
    "```python\n",
    "def interactive_update(df):\n",
    "    fig.clf()\n",
    "    plt.xlim(-10, 10) \n",
    "    plt.ylim(-0.1, 0.5) \n",
    "    plt.xlabel('x')\n",
    "    plt.ylabel('f(x)')\n",
    "    \n",
    "    x = np.linspace(-10,10,1000)\n",
    "    sns.lineplot(x=x, y=stats.norm().pdf(x))\n",
    "    sns.lineplot(x=x, y=stats.t(df).pdf(x))    \n",
    "       \n",
    "fig = plt.figure()\n",
    "\n",
    "_ = interact(interactive_update,   # making interactive form with two sliders\n",
    "             df=widgets.IntSlider(min=1, max=20, step=1, value=1, \n",
    "                            description = 'df:', layout=Layout(width='50%')),\n",
    "            ) \n",
    "```\n",
    "</p>\n",
    "</details>"
   ]
  },
  {
   "cell_type": "code",
   "execution_count": null,
   "metadata": {},
   "outputs": [],
   "source": [
    "# do not forget to close the active plot\n",
    "plt.close('all')"
   ]
  }
 ],
 "metadata": {
  "kernelspec": {
   "display_name": "Python 3 (ipykernel)",
   "language": "python",
   "name": "python3"
  },
  "language_info": {
   "codemirror_mode": {
    "name": "ipython",
    "version": 3
   },
   "file_extension": ".py",
   "mimetype": "text/x-python",
   "name": "python",
   "nbconvert_exporter": "python",
   "pygments_lexer": "ipython3",
   "version": "3.9.13"
  }
 },
 "nbformat": 4,
 "nbformat_minor": 2
}
